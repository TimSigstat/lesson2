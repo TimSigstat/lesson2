{
 "cells": [
  {
   "cell_type": "markdown",
   "id": "17f219d6",
   "metadata": {},
   "source": [
    "\n",
    "##### MACHINE LEARNING AND ARTIFICIAL INTELLIGENCE IN FINANCE\n",
    "\n",
    "### Estimating the probability of Distress \n",
    "\n",
    "**Aim**\n",
    "The object of this task is to develop three models to predict the probability of distress of UK firms and classify firms into two groups of distress (1) vs healthy(0). \n"
   ]
  },
  {
   "cell_type": "markdown",
   "id": "3f27df87",
   "metadata": {},
   "source": [
    "In the given dataset (UKDATA_1990_2014), the id and features of 6607 UK firm-year observations for the period of 2010 to 2014, the deendent variable is the stress variable which is dichotomous variable (1 for distress and 0 for healthy), the other independent variables are numerical (float). The features are a list of profitability ratios, liquidity ratios, cash flow ratios, capital structure and solvency ratios, asset utilization ratio, firm characteristics, and market information. \n",
    "\n",
    "This qualifies the problem as a supervised - classification problem. Supervised classification problems available in data science include: Logistic Regression, Decision Tree, Random Forest, Support Vector Matrix (SVM), Neural Networks and many more. In this study, three of the mentioned will be used due to their popularity and rigour as reported in several studies.\n",
    "\n",
    "The models to be developed are:\n",
    "\n",
    "1. Decision Tree\n",
    "2. Logistic Regression\n",
    "3. Random Forest\n",
    "\n",
    "**The structure** of this work follows this pattern:\n",
    "1.0. Preliminaries\n",
    "    1.1. Load Relevant Libraries\n",
    "    1.2. Import Data\n",
    "    1.3. Clean Data\n",
    "2.0.  Exploratory Data Analysis\n",
    "    2.1. Feature Selection\n",
    "    2.2. Descriptive Analysis\n",
    "    2.3. Visualizations\n",
    "   \n",
    " 3.0.  Model Building - Decision Tree\n",
    "    3.1. Check model accuracy\n",
    "    3.2. Check for over-fitting or under-fitting\n",
    "4.0.  Model Building - Logistic Regression\n",
    "    4.1. Check model accuracy\n",
    "    4.2. Check for over-fitting or under-fitting\n",
    "5.0.  Model Building - Random Forest\n",
    "    5.1. Check model accuracy\n",
    "    5.2. Check for over-fitting or under-fitting\n",
    "6.0.  The accuracy of measures T1, T2, total   accuracy & AUC (Area Under Curve)\n",
    "7.0.  Conclusion\n"
   ]
  },
  {
   "cell_type": "code",
   "execution_count": 8,
   "id": "263292a8",
   "metadata": {},
   "outputs": [],
   "source": [
    "# load libraries\n",
    "import numpy as np\n",
    "import matplotlib.pyplot as plt\n",
    "import seaborn as sns\n",
    "import pandas as pd\n",
    "from scipy import stats as st\n",
    "\n",
    "# lbrary to split data into train and test\n",
    "from sklearn.model_selection import train_test_split # Import train_test_split function\n",
    "\n",
    "# libraries for decision tree\n",
    "from sklearn.tree import DecisionTreeClassifier # Import Decision Tree Classifier\n",
    "from sklearn import metrics #Import scikit-learn metrics module for accuracy calculation\n",
    "\n",
    "#libraries for logistic regression\n",
    "import sklearn.linear_model as glm\n",
    "from sklearn.linear_model import  LogisticRegression\n"
   ]
  },
  {
   "cell_type": "code",
   "execution_count": 9,
   "id": "7e96e41f",
   "metadata": {},
   "outputs": [
    {
     "data": {
      "text/html": [
       "<div>\n",
       "<style scoped>\n",
       "    .dataframe tbody tr th:only-of-type {\n",
       "        vertical-align: middle;\n",
       "    }\n",
       "\n",
       "    .dataframe tbody tr th {\n",
       "        vertical-align: top;\n",
       "    }\n",
       "\n",
       "    .dataframe thead th {\n",
       "        text-align: right;\n",
       "    }\n",
       "</style>\n",
       "<table border=\"1\" class=\"dataframe\">\n",
       "  <thead>\n",
       "    <tr style=\"text-align: right;\">\n",
       "      <th></th>\n",
       "      <th>Unnamed: 0</th>\n",
       "      <th>Unnamed: 1</th>\n",
       "      <th>Distressed = 1 | Healthy = 0</th>\n",
       "      <th>Profitability Ratio</th>\n",
       "      <th>Unnamed: 4</th>\n",
       "      <th>Unnamed: 5</th>\n",
       "      <th>Liquidity</th>\n",
       "      <th>Unnamed: 7</th>\n",
       "      <th>Unnamed: 8</th>\n",
       "      <th>Unnamed: 9</th>\n",
       "      <th>...</th>\n",
       "      <th>Unnamed: 12</th>\n",
       "      <th>Capital Structure and Solvency Ratio</th>\n",
       "      <th>Unnamed: 14</th>\n",
       "      <th>Unnamed: 15</th>\n",
       "      <th>Asset Utilization Ratio</th>\n",
       "      <th>Firm Characteristics</th>\n",
       "      <th>Unnamed: 18</th>\n",
       "      <th>Market Information</th>\n",
       "      <th>Unnamed: 20</th>\n",
       "      <th>Unnamed: 21</th>\n",
       "    </tr>\n",
       "  </thead>\n",
       "  <tbody>\n",
       "    <tr>\n",
       "      <th>0</th>\n",
       "      <td>Firm_id</td>\n",
       "      <td>year</td>\n",
       "      <td>y</td>\n",
       "      <td>ReturnOnAssets</td>\n",
       "      <td>NetIncome_to_Sales</td>\n",
       "      <td>NegativeNetIncomeForLastTwoYears</td>\n",
       "      <td>CurrentAssets_to_CurrentLiabilities</td>\n",
       "      <td>CurrentAssetsTurnonver</td>\n",
       "      <td>QuickRatio</td>\n",
       "      <td>CurrentAssets_to_TotalLiabilities</td>\n",
       "      <td>...</td>\n",
       "      <td>FreeCashFlowfromOperations_to_Sales</td>\n",
       "      <td>TotalDebtRatio</td>\n",
       "      <td>LongTermDebt_to_Equity</td>\n",
       "      <td>InterestCoverageRatio</td>\n",
       "      <td>AssetTurnoverRatio</td>\n",
       "      <td>LOG_Sales</td>\n",
       "      <td>Log_Age</td>\n",
       "      <td>RealSize</td>\n",
       "      <td>LagExcessReturn</td>\n",
       "      <td>LagSigma</td>\n",
       "    </tr>\n",
       "    <tr>\n",
       "      <th>1</th>\n",
       "      <td>8812</td>\n",
       "      <td>2010</td>\n",
       "      <td>0</td>\n",
       "      <td>-0.014108</td>\n",
       "      <td>-0.266084</td>\n",
       "      <td>1</td>\n",
       "      <td>6.054536</td>\n",
       "      <td>0.234749</td>\n",
       "      <td>5.920886</td>\n",
       "      <td>2.341982</td>\n",
       "      <td>...</td>\n",
       "      <td>-0.083298</td>\n",
       "      <td>0.096442</td>\n",
       "      <td>0.135272</td>\n",
       "      <td>-54.663727</td>\n",
       "      <td>0.053022</td>\n",
       "      <td>12.725143</td>\n",
       "      <td>2.197225</td>\n",
       "      <td>2.027041</td>\n",
       "      <td>0.253332</td>\n",
       "      <td>388.76001</td>\n",
       "    </tr>\n",
       "    <tr>\n",
       "      <th>2</th>\n",
       "      <td>9253</td>\n",
       "      <td>2010</td>\n",
       "      <td>0</td>\n",
       "      <td>-0.008044</td>\n",
       "      <td>-0.016085</td>\n",
       "      <td>0</td>\n",
       "      <td>2.556376</td>\n",
       "      <td>1.141598</td>\n",
       "      <td>1.668415</td>\n",
       "      <td>1.678079</td>\n",
       "      <td>...</td>\n",
       "      <td>0.129681</td>\n",
       "      <td>0.261038</td>\n",
       "      <td>0.390958</td>\n",
       "      <td>0.180486</td>\n",
       "      <td>0.500068</td>\n",
       "      <td>13.185175</td>\n",
       "      <td>1.609438</td>\n",
       "      <td>4.458666</td>\n",
       "      <td>0.712462</td>\n",
       "      <td>109</td>\n",
       "    </tr>\n",
       "  </tbody>\n",
       "</table>\n",
       "<p>3 rows × 22 columns</p>\n",
       "</div>"
      ],
      "text/plain": [
       "  Unnamed: 0 Unnamed: 1 Distressed = 1 | Healthy = 0 Profitability Ratio  \\\n",
       "0    Firm_id       year                           y       ReturnOnAssets   \n",
       "1       8812       2010                            0           -0.014108   \n",
       "2       9253       2010                            0           -0.008044   \n",
       "\n",
       "           Unnamed: 4                        Unnamed: 5  \\\n",
       "0  NetIncome_to_Sales  NegativeNetIncomeForLastTwoYears   \n",
       "1           -0.266084                                 1   \n",
       "2           -0.016085                                 0   \n",
       "\n",
       "                             Liquidity              Unnamed: 7  Unnamed: 8  \\\n",
       "0  CurrentAssets_to_CurrentLiabilities  CurrentAssetsTurnonver  QuickRatio   \n",
       "1                             6.054536                0.234749    5.920886   \n",
       "2                             2.556376                1.141598    1.668415   \n",
       "\n",
       "                          Unnamed: 9  ...  \\\n",
       "0  CurrentAssets_to_TotalLiabilities  ...   \n",
       "1                           2.341982  ...   \n",
       "2                           1.678079  ...   \n",
       "\n",
       "                           Unnamed: 12 Capital Structure and Solvency Ratio  \\\n",
       "0  FreeCashFlowfromOperations_to_Sales                       TotalDebtRatio   \n",
       "1                            -0.083298                             0.096442   \n",
       "2                             0.129681                             0.261038   \n",
       "\n",
       "              Unnamed: 14            Unnamed: 15 Asset Utilization Ratio  \\\n",
       "0  LongTermDebt_to_Equity  InterestCoverageRatio      AssetTurnoverRatio   \n",
       "1                0.135272             -54.663727                0.053022   \n",
       "2                0.390958               0.180486                0.500068   \n",
       "\n",
       "  Firm Characteristics Unnamed: 18 Market Information      Unnamed: 20  \\\n",
       "0            LOG_Sales     Log_Age           RealSize  LagExcessReturn   \n",
       "1            12.725143    2.197225           2.027041         0.253332   \n",
       "2            13.185175    1.609438           4.458666         0.712462   \n",
       "\n",
       "  Unnamed: 21  \n",
       "0    LagSigma  \n",
       "1   388.76001  \n",
       "2         109  \n",
       "\n",
       "[3 rows x 22 columns]"
      ]
     },
     "execution_count": 9,
     "metadata": {},
     "output_type": "execute_result"
    }
   ],
   "source": [
    "# import the data\n",
    "df = pd.read_excel('UKData_1990_2014_Customised.xlsx')\n",
    "df.head(3)"
   ]
  },
  {
   "cell_type": "code",
   "execution_count": 10,
   "id": "6973a0c7",
   "metadata": {},
   "outputs": [
    {
     "data": {
      "text/html": [
       "<div>\n",
       "<style scoped>\n",
       "    .dataframe tbody tr th:only-of-type {\n",
       "        vertical-align: middle;\n",
       "    }\n",
       "\n",
       "    .dataframe tbody tr th {\n",
       "        vertical-align: top;\n",
       "    }\n",
       "\n",
       "    .dataframe thead th {\n",
       "        text-align: right;\n",
       "    }\n",
       "</style>\n",
       "<table border=\"1\" class=\"dataframe\">\n",
       "  <thead>\n",
       "    <tr style=\"text-align: right;\">\n",
       "      <th></th>\n",
       "      <th>Firm_id</th>\n",
       "      <th>year</th>\n",
       "      <th>y</th>\n",
       "      <th>ReturnOnAssets</th>\n",
       "      <th>NetIncome_to_Sales</th>\n",
       "      <th>NegativeNetIncomeForLastTwoYears</th>\n",
       "      <th>CurrentAssets_to_CurrentLiabilities</th>\n",
       "      <th>CurrentAssetsTurnonver</th>\n",
       "      <th>QuickRatio</th>\n",
       "      <th>CurrentAssets_to_TotalLiabilities</th>\n",
       "      <th>...</th>\n",
       "      <th>FreeCashFlowfromOperations_to_Sales</th>\n",
       "      <th>TotalDebtRatio</th>\n",
       "      <th>LongTermDebt_to_Equity</th>\n",
       "      <th>InterestCoverageRatio</th>\n",
       "      <th>AssetTurnoverRatio</th>\n",
       "      <th>LOG_Sales</th>\n",
       "      <th>Log_Age</th>\n",
       "      <th>RealSize</th>\n",
       "      <th>LagExcessReturn</th>\n",
       "      <th>LagSigma</th>\n",
       "    </tr>\n",
       "  </thead>\n",
       "  <tbody>\n",
       "    <tr>\n",
       "      <th>0</th>\n",
       "      <td>Firm_id</td>\n",
       "      <td>year</td>\n",
       "      <td>y</td>\n",
       "      <td>ReturnOnAssets</td>\n",
       "      <td>NetIncome_to_Sales</td>\n",
       "      <td>NegativeNetIncomeForLastTwoYears</td>\n",
       "      <td>CurrentAssets_to_CurrentLiabilities</td>\n",
       "      <td>CurrentAssetsTurnonver</td>\n",
       "      <td>QuickRatio</td>\n",
       "      <td>CurrentAssets_to_TotalLiabilities</td>\n",
       "      <td>...</td>\n",
       "      <td>FreeCashFlowfromOperations_to_Sales</td>\n",
       "      <td>TotalDebtRatio</td>\n",
       "      <td>LongTermDebt_to_Equity</td>\n",
       "      <td>InterestCoverageRatio</td>\n",
       "      <td>AssetTurnoverRatio</td>\n",
       "      <td>LOG_Sales</td>\n",
       "      <td>Log_Age</td>\n",
       "      <td>RealSize</td>\n",
       "      <td>LagExcessReturn</td>\n",
       "      <td>LagSigma</td>\n",
       "    </tr>\n",
       "    <tr>\n",
       "      <th>1</th>\n",
       "      <td>8812</td>\n",
       "      <td>2010</td>\n",
       "      <td>0</td>\n",
       "      <td>-0.014108</td>\n",
       "      <td>-0.266084</td>\n",
       "      <td>1</td>\n",
       "      <td>6.054536</td>\n",
       "      <td>0.234749</td>\n",
       "      <td>5.920886</td>\n",
       "      <td>2.341982</td>\n",
       "      <td>...</td>\n",
       "      <td>-0.083298</td>\n",
       "      <td>0.096442</td>\n",
       "      <td>0.135272</td>\n",
       "      <td>-54.663727</td>\n",
       "      <td>0.053022</td>\n",
       "      <td>12.725143</td>\n",
       "      <td>2.197225</td>\n",
       "      <td>2.027041</td>\n",
       "      <td>0.253332</td>\n",
       "      <td>388.76001</td>\n",
       "    </tr>\n",
       "    <tr>\n",
       "      <th>2</th>\n",
       "      <td>9253</td>\n",
       "      <td>2010</td>\n",
       "      <td>0</td>\n",
       "      <td>-0.008044</td>\n",
       "      <td>-0.016085</td>\n",
       "      <td>0</td>\n",
       "      <td>2.556376</td>\n",
       "      <td>1.141598</td>\n",
       "      <td>1.668415</td>\n",
       "      <td>1.678079</td>\n",
       "      <td>...</td>\n",
       "      <td>0.129681</td>\n",
       "      <td>0.261038</td>\n",
       "      <td>0.390958</td>\n",
       "      <td>0.180486</td>\n",
       "      <td>0.500068</td>\n",
       "      <td>13.185175</td>\n",
       "      <td>1.609438</td>\n",
       "      <td>4.458666</td>\n",
       "      <td>0.712462</td>\n",
       "      <td>109</td>\n",
       "    </tr>\n",
       "  </tbody>\n",
       "</table>\n",
       "<p>3 rows × 22 columns</p>\n",
       "</div>"
      ],
      "text/plain": [
       "0  Firm_id  year  y   ReturnOnAssets  NetIncome_to_Sales  \\\n",
       "0  Firm_id  year  y   ReturnOnAssets  NetIncome_to_Sales   \n",
       "1     8812  2010   0       -0.014108           -0.266084   \n",
       "2     9253  2010   0       -0.008044           -0.016085   \n",
       "\n",
       "0  NegativeNetIncomeForLastTwoYears  CurrentAssets_to_CurrentLiabilities  \\\n",
       "0  NegativeNetIncomeForLastTwoYears  CurrentAssets_to_CurrentLiabilities   \n",
       "1                                 1                             6.054536   \n",
       "2                                 0                             2.556376   \n",
       "\n",
       "0  CurrentAssetsTurnonver  QuickRatio  CurrentAssets_to_TotalLiabilities  ...  \\\n",
       "0  CurrentAssetsTurnonver  QuickRatio  CurrentAssets_to_TotalLiabilities  ...   \n",
       "1                0.234749    5.920886                           2.341982  ...   \n",
       "2                1.141598    1.668415                           1.678079  ...   \n",
       "\n",
       "0  FreeCashFlowfromOperations_to_Sales  TotalDebtRatio  \\\n",
       "0  FreeCashFlowfromOperations_to_Sales  TotalDebtRatio   \n",
       "1                            -0.083298        0.096442   \n",
       "2                             0.129681        0.261038   \n",
       "\n",
       "0  LongTermDebt_to_Equity  InterestCoverageRatio  AssetTurnoverRatio  \\\n",
       "0  LongTermDebt_to_Equity  InterestCoverageRatio  AssetTurnoverRatio   \n",
       "1                0.135272             -54.663727            0.053022   \n",
       "2                0.390958               0.180486            0.500068   \n",
       "\n",
       "0  LOG_Sales   Log_Age  RealSize  LagExcessReturn   LagSigma  \n",
       "0  LOG_Sales   Log_Age  RealSize  LagExcessReturn   LagSigma  \n",
       "1  12.725143  2.197225  2.027041         0.253332  388.76001  \n",
       "2  13.185175  1.609438  4.458666         0.712462        109  \n",
       "\n",
       "[3 rows x 22 columns]"
      ]
     },
     "execution_count": 10,
     "metadata": {},
     "output_type": "execute_result"
    }
   ],
   "source": [
    "#clean 1, make the row 0th as the column header\n",
    "df.columns = df.iloc[0]\n",
    "\n",
    "df.head(3)"
   ]
  },
  {
   "cell_type": "code",
   "execution_count": 11,
   "id": "998d0614",
   "metadata": {},
   "outputs": [
    {
     "data": {
      "text/html": [
       "<div>\n",
       "<style scoped>\n",
       "    .dataframe tbody tr th:only-of-type {\n",
       "        vertical-align: middle;\n",
       "    }\n",
       "\n",
       "    .dataframe tbody tr th {\n",
       "        vertical-align: top;\n",
       "    }\n",
       "\n",
       "    .dataframe thead th {\n",
       "        text-align: right;\n",
       "    }\n",
       "</style>\n",
       "<table border=\"1\" class=\"dataframe\">\n",
       "  <thead>\n",
       "    <tr style=\"text-align: right;\">\n",
       "      <th></th>\n",
       "      <th>Firm_id</th>\n",
       "      <th>year</th>\n",
       "      <th>y</th>\n",
       "      <th>ReturnOnAssets</th>\n",
       "      <th>NetIncome_to_Sales</th>\n",
       "      <th>NegativeNetIncomeForLastTwoYears</th>\n",
       "      <th>CurrentAssets_to_CurrentLiabilities</th>\n",
       "      <th>CurrentAssetsTurnonver</th>\n",
       "      <th>QuickRatio</th>\n",
       "      <th>CurrentAssets_to_TotalLiabilities</th>\n",
       "      <th>...</th>\n",
       "      <th>FreeCashFlowfromOperations_to_Sales</th>\n",
       "      <th>TotalDebtRatio</th>\n",
       "      <th>LongTermDebt_to_Equity</th>\n",
       "      <th>InterestCoverageRatio</th>\n",
       "      <th>AssetTurnoverRatio</th>\n",
       "      <th>LOG_Sales</th>\n",
       "      <th>Log_Age</th>\n",
       "      <th>RealSize</th>\n",
       "      <th>LagExcessReturn</th>\n",
       "      <th>LagSigma</th>\n",
       "    </tr>\n",
       "  </thead>\n",
       "  <tbody>\n",
       "    <tr>\n",
       "      <th>1</th>\n",
       "      <td>8812</td>\n",
       "      <td>2010</td>\n",
       "      <td>0</td>\n",
       "      <td>-0.014108</td>\n",
       "      <td>-0.266084</td>\n",
       "      <td>1</td>\n",
       "      <td>6.054536</td>\n",
       "      <td>0.234749</td>\n",
       "      <td>5.920886</td>\n",
       "      <td>2.341982</td>\n",
       "      <td>...</td>\n",
       "      <td>-0.083298</td>\n",
       "      <td>0.096442</td>\n",
       "      <td>0.135272</td>\n",
       "      <td>-54.663727</td>\n",
       "      <td>0.053022</td>\n",
       "      <td>12.725143</td>\n",
       "      <td>2.197225</td>\n",
       "      <td>2.027041</td>\n",
       "      <td>0.253332</td>\n",
       "      <td>388.76001</td>\n",
       "    </tr>\n",
       "    <tr>\n",
       "      <th>2</th>\n",
       "      <td>9253</td>\n",
       "      <td>2010</td>\n",
       "      <td>0</td>\n",
       "      <td>-0.008044</td>\n",
       "      <td>-0.016085</td>\n",
       "      <td>0</td>\n",
       "      <td>2.556376</td>\n",
       "      <td>1.141598</td>\n",
       "      <td>1.668415</td>\n",
       "      <td>1.678079</td>\n",
       "      <td>...</td>\n",
       "      <td>0.129681</td>\n",
       "      <td>0.261038</td>\n",
       "      <td>0.390958</td>\n",
       "      <td>0.180486</td>\n",
       "      <td>0.500068</td>\n",
       "      <td>13.185175</td>\n",
       "      <td>1.609438</td>\n",
       "      <td>4.458666</td>\n",
       "      <td>0.712462</td>\n",
       "      <td>109</td>\n",
       "    </tr>\n",
       "  </tbody>\n",
       "</table>\n",
       "<p>2 rows × 22 columns</p>\n",
       "</div>"
      ],
      "text/plain": [
       "0 Firm_id  year y  ReturnOnAssets NetIncome_to_Sales  \\\n",
       "1    8812  2010  0      -0.014108          -0.266084   \n",
       "2    9253  2010  0      -0.008044          -0.016085   \n",
       "\n",
       "0 NegativeNetIncomeForLastTwoYears CurrentAssets_to_CurrentLiabilities  \\\n",
       "1                                1                            6.054536   \n",
       "2                                0                            2.556376   \n",
       "\n",
       "0 CurrentAssetsTurnonver QuickRatio CurrentAssets_to_TotalLiabilities  ...  \\\n",
       "1               0.234749   5.920886                          2.341982  ...   \n",
       "2               1.141598   1.668415                          1.678079  ...   \n",
       "\n",
       "0 FreeCashFlowfromOperations_to_Sales TotalDebtRatio LongTermDebt_to_Equity  \\\n",
       "1                           -0.083298       0.096442               0.135272   \n",
       "2                            0.129681       0.261038               0.390958   \n",
       "\n",
       "0 InterestCoverageRatio AssetTurnoverRatio  LOG_Sales   Log_Age  RealSize  \\\n",
       "1            -54.663727           0.053022  12.725143  2.197225  2.027041   \n",
       "2              0.180486           0.500068  13.185175  1.609438  4.458666   \n",
       "\n",
       "0 LagExcessReturn   LagSigma  \n",
       "1        0.253332  388.76001  \n",
       "2        0.712462        109  \n",
       "\n",
       "[2 rows x 22 columns]"
      ]
     },
     "execution_count": 11,
     "metadata": {},
     "output_type": "execute_result"
    }
   ],
   "source": [
    "#clean 2, now remove the 0th row\n",
    "\n",
    "df.drop([0], axis=0, inplace=True)\n",
    "\n",
    "df.head(2)\n"
   ]
  },
  {
   "cell_type": "code",
   "execution_count": 12,
   "id": "c33ec939",
   "metadata": {},
   "outputs": [
    {
     "data": {
      "text/plain": [
       "145310"
      ]
     },
     "execution_count": 12,
     "metadata": {},
     "output_type": "execute_result"
    }
   ],
   "source": [
    "df.shape #data contains 6605 rows, 22 columns\n",
    "\n",
    "df.size"
   ]
  },
  {
   "cell_type": "code",
   "execution_count": 13,
   "id": "a7505445",
   "metadata": {},
   "outputs": [
    {
     "data": {
      "text/plain": [
       "1       2010\n",
       "2       2010\n",
       "3       2010\n",
       "4       2010\n",
       "5       2010\n",
       "        ... \n",
       "6601    2014\n",
       "6602    2014\n",
       "6603    2014\n",
       "6604    2014\n",
       "6605    2014\n",
       "Name: year, Length: 6605, dtype: object"
      ]
     },
     "execution_count": 13,
     "metadata": {},
     "output_type": "execute_result"
    }
   ],
   "source": [
    "#clean3 sort data by years column\n",
    "df.sort_values('year')\n",
    "df['year']"
   ]
  },
  {
   "cell_type": "code",
   "execution_count": 14,
   "id": "ca59143e",
   "metadata": {},
   "outputs": [
    {
     "data": {
      "text/html": [
       "<div>\n",
       "<style scoped>\n",
       "    .dataframe tbody tr th:only-of-type {\n",
       "        vertical-align: middle;\n",
       "    }\n",
       "\n",
       "    .dataframe tbody tr th {\n",
       "        vertical-align: top;\n",
       "    }\n",
       "\n",
       "    .dataframe thead th {\n",
       "        text-align: right;\n",
       "    }\n",
       "</style>\n",
       "<table border=\"1\" class=\"dataframe\">\n",
       "  <thead>\n",
       "    <tr style=\"text-align: right;\">\n",
       "      <th></th>\n",
       "      <th>ReturnOnAssets</th>\n",
       "      <th>NetIncome_to_Sales</th>\n",
       "      <th>NegativeNetIncomeForLastTwoYears</th>\n",
       "      <th>CurrentAssets_to_CurrentLiabilities</th>\n",
       "      <th>CurrentAssetsTurnonver</th>\n",
       "      <th>QuickRatio</th>\n",
       "      <th>CurrentAssets_to_TotalLiabilities</th>\n",
       "      <th>CashandEquivalent_to_Assets</th>\n",
       "      <th>OperatingCashFlow_to_Assets</th>\n",
       "      <th>FreeCashFlowfromOperations_to_Sales</th>\n",
       "      <th>TotalDebtRatio</th>\n",
       "      <th>LongTermDebt_to_Equity</th>\n",
       "      <th>InterestCoverageRatio</th>\n",
       "      <th>AssetTurnoverRatio</th>\n",
       "      <th>LOG_Sales</th>\n",
       "      <th>Log_Age</th>\n",
       "      <th>RealSize</th>\n",
       "      <th>LagExcessReturn</th>\n",
       "    </tr>\n",
       "  </thead>\n",
       "  <tbody>\n",
       "    <tr>\n",
       "      <th>1</th>\n",
       "      <td>-0.014108</td>\n",
       "      <td>-0.266084</td>\n",
       "      <td>1</td>\n",
       "      <td>6.054536</td>\n",
       "      <td>0.234749</td>\n",
       "      <td>5.920886</td>\n",
       "      <td>2.341982</td>\n",
       "      <td>0.200488</td>\n",
       "      <td>-0.004417</td>\n",
       "      <td>-0.083298</td>\n",
       "      <td>0.096442</td>\n",
       "      <td>0.135272</td>\n",
       "      <td>-54.663727</td>\n",
       "      <td>0.053022</td>\n",
       "      <td>12.725143</td>\n",
       "      <td>2.197225</td>\n",
       "      <td>2.027041</td>\n",
       "      <td>0.253332</td>\n",
       "    </tr>\n",
       "    <tr>\n",
       "      <th>2</th>\n",
       "      <td>-0.008044</td>\n",
       "      <td>-0.016085</td>\n",
       "      <td>0</td>\n",
       "      <td>2.556376</td>\n",
       "      <td>1.141598</td>\n",
       "      <td>1.668415</td>\n",
       "      <td>1.678079</td>\n",
       "      <td>0.140064</td>\n",
       "      <td>0.064849</td>\n",
       "      <td>0.129681</td>\n",
       "      <td>0.261038</td>\n",
       "      <td>0.390958</td>\n",
       "      <td>0.180486</td>\n",
       "      <td>0.500068</td>\n",
       "      <td>13.185175</td>\n",
       "      <td>1.609438</td>\n",
       "      <td>4.458666</td>\n",
       "      <td>0.712462</td>\n",
       "    </tr>\n",
       "    <tr>\n",
       "      <th>3</th>\n",
       "      <td>0.020855</td>\n",
       "      <td>0.104525</td>\n",
       "      <td>0</td>\n",
       "      <td>0.211685</td>\n",
       "      <td>2.360113</td>\n",
       "      <td>0.211685</td>\n",
       "      <td>0.227821</td>\n",
       "      <td>0.048582</td>\n",
       "      <td>0.052337</td>\n",
       "      <td>0.262315</td>\n",
       "      <td>0.371075</td>\n",
       "      <td>0.01489</td>\n",
       "      <td>2.386243</td>\n",
       "      <td>0.199521</td>\n",
       "      <td>7.822845</td>\n",
       "      <td>2.70805</td>\n",
       "      <td>1.601936</td>\n",
       "      <td>0.676842</td>\n",
       "    </tr>\n",
       "  </tbody>\n",
       "</table>\n",
       "</div>"
      ],
      "text/plain": [
       "0 ReturnOnAssets NetIncome_to_Sales NegativeNetIncomeForLastTwoYears  \\\n",
       "1      -0.014108          -0.266084                                1   \n",
       "2      -0.008044          -0.016085                                0   \n",
       "3       0.020855           0.104525                                0   \n",
       "\n",
       "0 CurrentAssets_to_CurrentLiabilities CurrentAssetsTurnonver QuickRatio  \\\n",
       "1                            6.054536               0.234749   5.920886   \n",
       "2                            2.556376               1.141598   1.668415   \n",
       "3                            0.211685               2.360113   0.211685   \n",
       "\n",
       "0 CurrentAssets_to_TotalLiabilities CashandEquivalent_to_Assets  \\\n",
       "1                          2.341982                    0.200488   \n",
       "2                          1.678079                    0.140064   \n",
       "3                          0.227821                    0.048582   \n",
       "\n",
       "0 OperatingCashFlow_to_Assets FreeCashFlowfromOperations_to_Sales  \\\n",
       "1                   -0.004417                           -0.083298   \n",
       "2                    0.064849                            0.129681   \n",
       "3                    0.052337                            0.262315   \n",
       "\n",
       "0 TotalDebtRatio LongTermDebt_to_Equity InterestCoverageRatio  \\\n",
       "1       0.096442               0.135272            -54.663727   \n",
       "2       0.261038               0.390958              0.180486   \n",
       "3       0.371075                0.01489              2.386243   \n",
       "\n",
       "0 AssetTurnoverRatio  LOG_Sales   Log_Age  RealSize LagExcessReturn  \n",
       "1           0.053022  12.725143  2.197225  2.027041        0.253332  \n",
       "2           0.500068  13.185175  1.609438  4.458666        0.712462  \n",
       "3           0.199521   7.822845   2.70805  1.601936        0.676842  "
      ]
     },
     "execution_count": 14,
     "metadata": {},
     "output_type": "execute_result"
    }
   ],
   "source": [
    "#create the features (independent variable) column by droping the first three columns/ select from the 4th column to the last\n",
    "dfX = df.iloc[:, 3: -1]\n",
    "dfX.head(3)"
   ]
  },
  {
   "cell_type": "code",
   "execution_count": 15,
   "id": "54316d06",
   "metadata": {},
   "outputs": [
    {
     "data": {
      "text/plain": [
       "1    0\n",
       "2    0\n",
       "3    0\n",
       "Name: y , dtype: int32"
      ]
     },
     "execution_count": 15,
     "metadata": {},
     "output_type": "execute_result"
    }
   ],
   "source": [
    "#create only for the dependent variable\n",
    "dfY = df['y ']\n",
    "dfY=dfY.astype('int')\n",
    "dfY.head(3)"
   ]
  },
  {
   "cell_type": "raw",
   "id": "48e0b40d",
   "metadata": {},
   "source": []
  },
  {
   "cell_type": "markdown",
   "id": "bca07f48",
   "metadata": {},
   "source": [
    "#### Feature Selection\n",
    "When there are too many variables (features) like we have in this data, the model might run into overfitting or underfitting problems. The computing time, needed resource and model complexity increases, and the output becomes really hard to explain. Too many features might also result into multicolinearity problem. Selecting relevant features therefore for speedy computation and less complex model. There exist different methods of feature selection, only the two most popular 'filter method' will be made use of:\n",
    "1. Variance Threshold Selection\n",
    "2. Recursive feature Elimination"
   ]
  },
  {
   "cell_type": "code",
   "execution_count": 16,
   "id": "ed950dc2",
   "metadata": {},
   "outputs": [],
   "source": [
    "#run this first time only to install skfeature which will help in fisher score\n",
    "\n",
    "from sklearn.feature_selection import VarianceThreshold\n"
   ]
  },
  {
   "cell_type": "markdown",
   "id": "6bd9a89e",
   "metadata": {},
   "source": [
    "### Variance Threshold Method of Feature Selection"
   ]
  },
  {
   "cell_type": "code",
   "execution_count": 17,
   "id": "aabd4edc",
   "metadata": {},
   "outputs": [
    {
     "data": {
      "text/plain": [
       "0\n",
       "ReturnOnAssets                         2.155446e+00\n",
       "NetIncome_to_Sales                     3.579785e+04\n",
       "NegativeNetIncomeForLastTwoYears       2.269055e-01\n",
       "CurrentAssets_to_CurrentLiabilities    3.367453e+02\n",
       "CurrentAssetsTurnonver                 5.637367e+00\n",
       "QuickRatio                             3.358546e+02\n",
       "CurrentAssets_to_TotalLiabilities      3.700693e+06\n",
       "CashandEquivalent_to_Assets            4.588208e-02\n",
       "OperatingCashFlow_to_Assets            1.688321e-01\n",
       "FreeCashFlowfromOperations_to_Sales    1.312254e+04\n",
       "TotalDebtRatio                         1.959481e-01\n",
       "LongTermDebt_to_Equity                 3.699223e+03\n",
       "InterestCoverageRatio                  6.652241e+06\n",
       "AssetTurnoverRatio                     1.704244e+00\n",
       "LOG_Sales                              8.546314e+00\n",
       "Log_Age                                5.151919e-01\n",
       "RealSize                               9.560189e+01\n",
       "LagExcessReturn                        1.873102e-01\n",
       "dtype: float64"
      ]
     },
     "execution_count": 17,
     "metadata": {},
     "output_type": "execute_result"
    }
   ],
   "source": [
    "dfX.var(axis=0) #there are 18 columns in the dataframe, \n",
    "#their variances ranged between 4.588208e-02 (CashandEquivalent_to_Assets) to\n",
    "#6.652241e+06 (InterestCoverageRatio)"
   ]
  },
  {
   "cell_type": "code",
   "execution_count": 18,
   "id": "c41da013",
   "metadata": {},
   "outputs": [
    {
     "data": {
      "text/plain": [
       "0.1275"
      ]
     },
     "execution_count": 18,
     "metadata": {},
     "output_type": "execute_result"
    }
   ],
   "source": [
    "#selecting a threshold, for 85%, thst is to exclude variables that do not varry for at least 85% of the time\n",
    "\n",
    "th = 0.85*(1-0.85)\n",
    "th"
   ]
  },
  {
   "cell_type": "code",
   "execution_count": 19,
   "id": "561af69f",
   "metadata": {},
   "outputs": [
    {
     "data": {
      "text/plain": [
       "VarianceThreshold(threshold=0.1275)"
      ]
     },
     "execution_count": 19,
     "metadata": {},
     "output_type": "execute_result"
    }
   ],
   "source": [
    "#remove variances less than 1.0\n",
    "selectFt = VarianceThreshold(threshold=th) #selectFt for Select Feature\n",
    "selectFt.fit(dfX)"
   ]
  },
  {
   "cell_type": "code",
   "execution_count": 20,
   "id": "b0ccb94c",
   "metadata": {},
   "outputs": [],
   "source": [
    "#Print the column names of selected features, 12 in total\n",
    "selectFt.get_support()\n",
    "np.array(dfX.columns)[selectFt.get_support()]\n",
    "\n",
    "#assign the features to adeX1\n",
    "\n",
    "dfX1 = dfX[['ReturnOnAssets', 'NetIncome_to_Sales',\n",
    "       'NegativeNetIncomeForLastTwoYears',\n",
    "       'CurrentAssets_to_CurrentLiabilities', 'CurrentAssetsTurnonver',\n",
    "       'QuickRatio', 'CurrentAssets_to_TotalLiabilities',\n",
    "       'OperatingCashFlow_to_Assets',\n",
    "       'FreeCashFlowfromOperations_to_Sales', 'TotalDebtRatio',\n",
    "       'LongTermDebt_to_Equity', 'InterestCoverageRatio',\n",
    "       'AssetTurnoverRatio', 'LOG_Sales', 'Log_Age', 'RealSize',\n",
    "       'LagExcessReturn']]"
   ]
  },
  {
   "cell_type": "code",
   "execution_count": 21,
   "id": "995adbb7",
   "metadata": {},
   "outputs": [
    {
     "data": {
      "text/plain": [
       "array([2.15511989e+00, 3.57924283e+04, 2.26871139e-01, 3.36694338e+02,\n",
       "       5.63651366e+00, 3.35803739e+02, 3.70013260e+06, 4.58751317e-02,\n",
       "       1.68806511e-01, 1.31205521e+04, 1.95918386e-01, 3.69866302e+03,\n",
       "       6.65123416e+06, 1.70398567e+00, 8.54502001e+00, 5.15113913e-01,\n",
       "       9.55874152e+01, 1.87281889e-01])"
      ]
     },
     "execution_count": 21,
     "metadata": {},
     "output_type": "execute_result"
    }
   ],
   "source": [
    "#checking the variances of the selected features\n",
    "selectFt.variances_"
   ]
  },
  {
   "cell_type": "markdown",
   "id": "e19384aa",
   "metadata": {},
   "source": [
    "2. Recursive feature Elimination\n",
    "\n",
    "From the 13 selected variables, lets further prune for best features"
   ]
  },
  {
   "cell_type": "code",
   "execution_count": 22,
   "id": "b9d73a09",
   "metadata": {},
   "outputs": [],
   "source": [
    "from sklearn.feature_selection import RFECV\n",
    "from sklearn.linear_model import SGDClassifier"
   ]
  },
  {
   "cell_type": "code",
   "execution_count": 25,
   "id": "2e19d2bc",
   "metadata": {},
   "outputs": [
    {
     "name": "stdout",
     "output_type": "stream",
     "text": [
      "[1 1 1 1 1 1 1 1 1 1 1 1 1 1 1 1 1]\n",
      "[0.80291106 0.83773372 0.605276   0.71485188 0.82864612 0.72196849\n",
      " 0.6794393  0.83909474 0.79369667 0.78973717 0.83604949 0.89961315]\n"
     ]
    }
   ],
   "source": [
    "selectRFE = RFECV(SGDClassifier(random_state=0), step=1, min_features_to_select=6, cv=7)\n",
    "selectRFE.fit(dfX1, dfY)\n",
    "print(selectRFE.ranking_)\n",
    "print(selectRFE.grid_scores_)"
   ]
  },
  {
   "cell_type": "code",
   "execution_count": 26,
   "id": "5416468f",
   "metadata": {},
   "outputs": [
    {
     "data": {
      "text/plain": [
       "array(['ReturnOnAssets', 'NetIncome_to_Sales',\n",
       "       'NegativeNetIncomeForLastTwoYears',\n",
       "       'CurrentAssets_to_CurrentLiabilities', 'CurrentAssetsTurnonver',\n",
       "       'QuickRatio', 'CurrentAssets_to_TotalLiabilities',\n",
       "       'OperatingCashFlow_to_Assets',\n",
       "       'FreeCashFlowfromOperations_to_Sales', 'TotalDebtRatio',\n",
       "       'LongTermDebt_to_Equity', 'InterestCoverageRatio',\n",
       "       'AssetTurnoverRatio', 'LOG_Sales', 'Log_Age', 'RealSize',\n",
       "       'LagExcessReturn'], dtype=object)"
      ]
     },
     "execution_count": 26,
     "metadata": {},
     "output_type": "execute_result"
    }
   ],
   "source": [
    "np.array(dfX1.columns)[selectRFE.get_support()]\n",
    "#Using the recursive feature elimination method, one more feature ('NegativeNetIncomeForLastTwoYears') was drop, hence 11 features will be used to fit the model"
   ]
  },
  {
   "cell_type": "code",
   "execution_count": 27,
   "id": "1fdae89a",
   "metadata": {},
   "outputs": [
    {
     "data": {
      "text/html": [
       "<div>\n",
       "<style scoped>\n",
       "    .dataframe tbody tr th:only-of-type {\n",
       "        vertical-align: middle;\n",
       "    }\n",
       "\n",
       "    .dataframe tbody tr th {\n",
       "        vertical-align: top;\n",
       "    }\n",
       "\n",
       "    .dataframe thead th {\n",
       "        text-align: right;\n",
       "    }\n",
       "</style>\n",
       "<table border=\"1\" class=\"dataframe\">\n",
       "  <thead>\n",
       "    <tr style=\"text-align: right;\">\n",
       "      <th></th>\n",
       "      <th>ReturnOnAssets</th>\n",
       "      <th>NetIncome_to_Sales</th>\n",
       "      <th>NegativeNetIncomeForLastTwoYears</th>\n",
       "      <th>CurrentAssets_to_CurrentLiabilities</th>\n",
       "      <th>CurrentAssetsTurnonver</th>\n",
       "      <th>QuickRatio</th>\n",
       "      <th>CurrentAssets_to_TotalLiabilities</th>\n",
       "      <th>OperatingCashFlow_to_Assets</th>\n",
       "      <th>FreeCashFlowfromOperations_to_Sales</th>\n",
       "      <th>TotalDebtRatio</th>\n",
       "      <th>LongTermDebt_to_Equity</th>\n",
       "      <th>InterestCoverageRatio</th>\n",
       "      <th>AssetTurnoverRatio</th>\n",
       "      <th>LOG_Sales</th>\n",
       "      <th>Log_Age</th>\n",
       "      <th>RealSize</th>\n",
       "      <th>LagExcessReturn</th>\n",
       "    </tr>\n",
       "  </thead>\n",
       "  <tbody>\n",
       "    <tr>\n",
       "      <th>1</th>\n",
       "      <td>-0.014108</td>\n",
       "      <td>-0.266084</td>\n",
       "      <td>1</td>\n",
       "      <td>6.054536</td>\n",
       "      <td>0.234749</td>\n",
       "      <td>5.920886</td>\n",
       "      <td>2.341982</td>\n",
       "      <td>-0.004417</td>\n",
       "      <td>-0.083298</td>\n",
       "      <td>0.096442</td>\n",
       "      <td>0.135272</td>\n",
       "      <td>-54.663727</td>\n",
       "      <td>0.053022</td>\n",
       "      <td>12.725143</td>\n",
       "      <td>2.197225</td>\n",
       "      <td>2.027041</td>\n",
       "      <td>0.253332</td>\n",
       "    </tr>\n",
       "    <tr>\n",
       "      <th>2</th>\n",
       "      <td>-0.008044</td>\n",
       "      <td>-0.016085</td>\n",
       "      <td>0</td>\n",
       "      <td>2.556376</td>\n",
       "      <td>1.141598</td>\n",
       "      <td>1.668415</td>\n",
       "      <td>1.678079</td>\n",
       "      <td>0.064849</td>\n",
       "      <td>0.129681</td>\n",
       "      <td>0.261038</td>\n",
       "      <td>0.390958</td>\n",
       "      <td>0.180486</td>\n",
       "      <td>0.500068</td>\n",
       "      <td>13.185175</td>\n",
       "      <td>1.609438</td>\n",
       "      <td>4.458666</td>\n",
       "      <td>0.712462</td>\n",
       "    </tr>\n",
       "    <tr>\n",
       "      <th>3</th>\n",
       "      <td>0.020855</td>\n",
       "      <td>0.104525</td>\n",
       "      <td>0</td>\n",
       "      <td>0.211685</td>\n",
       "      <td>2.360113</td>\n",
       "      <td>0.211685</td>\n",
       "      <td>0.227821</td>\n",
       "      <td>0.052337</td>\n",
       "      <td>0.262315</td>\n",
       "      <td>0.371075</td>\n",
       "      <td>0.01489</td>\n",
       "      <td>2.386243</td>\n",
       "      <td>0.199521</td>\n",
       "      <td>7.822845</td>\n",
       "      <td>2.70805</td>\n",
       "      <td>1.601936</td>\n",
       "      <td>0.676842</td>\n",
       "    </tr>\n",
       "  </tbody>\n",
       "</table>\n",
       "</div>"
      ],
      "text/plain": [
       "0 ReturnOnAssets NetIncome_to_Sales NegativeNetIncomeForLastTwoYears  \\\n",
       "1      -0.014108          -0.266084                                1   \n",
       "2      -0.008044          -0.016085                                0   \n",
       "3       0.020855           0.104525                                0   \n",
       "\n",
       "0 CurrentAssets_to_CurrentLiabilities CurrentAssetsTurnonver QuickRatio  \\\n",
       "1                            6.054536               0.234749   5.920886   \n",
       "2                            2.556376               1.141598   1.668415   \n",
       "3                            0.211685               2.360113   0.211685   \n",
       "\n",
       "0 CurrentAssets_to_TotalLiabilities OperatingCashFlow_to_Assets  \\\n",
       "1                          2.341982                   -0.004417   \n",
       "2                          1.678079                    0.064849   \n",
       "3                          0.227821                    0.052337   \n",
       "\n",
       "0 FreeCashFlowfromOperations_to_Sales TotalDebtRatio LongTermDebt_to_Equity  \\\n",
       "1                           -0.083298       0.096442               0.135272   \n",
       "2                            0.129681       0.261038               0.390958   \n",
       "3                            0.262315       0.371075                0.01489   \n",
       "\n",
       "0 InterestCoverageRatio AssetTurnoverRatio  LOG_Sales   Log_Age  RealSize  \\\n",
       "1            -54.663727           0.053022  12.725143  2.197225  2.027041   \n",
       "2              0.180486           0.500068  13.185175  1.609438  4.458666   \n",
       "3              2.386243           0.199521   7.822845   2.70805  1.601936   \n",
       "\n",
       "0 LagExcessReturn  \n",
       "1        0.253332  \n",
       "2        0.712462  \n",
       "3        0.676842  "
      ]
     },
     "execution_count": 27,
     "metadata": {},
     "output_type": "execute_result"
    }
   ],
   "source": [
    "dfXft = dfX[['ReturnOnAssets', 'NetIncome_to_Sales',\n",
    "       'NegativeNetIncomeForLastTwoYears',\n",
    "       'CurrentAssets_to_CurrentLiabilities', 'CurrentAssetsTurnonver',\n",
    "       'QuickRatio', 'CurrentAssets_to_TotalLiabilities',\n",
    "       'OperatingCashFlow_to_Assets',\n",
    "       'FreeCashFlowfromOperations_to_Sales', 'TotalDebtRatio',\n",
    "       'LongTermDebt_to_Equity', 'InterestCoverageRatio',\n",
    "       'AssetTurnoverRatio', 'LOG_Sales', 'Log_Age', 'RealSize',\n",
    "       'LagExcessReturn']]\n",
    "\n",
    "dfXft.head(3)"
   ]
  },
  {
   "cell_type": "markdown",
   "id": "0f949c1b",
   "metadata": {},
   "source": [
    "#### Method 3 - SelectKBest\n",
    "\n",
    "For Categorical and Non-Negative data only"
   ]
  },
  {
   "cell_type": "code",
   "execution_count": 37,
   "id": "1afd8716",
   "metadata": {},
   "outputs": [],
   "source": [
    "from sklearn.feature_selection import SelectKBest, chi2, f_classif"
   ]
  },
  {
   "cell_type": "code",
   "execution_count": null,
   "id": "fbe15b13",
   "metadata": {},
   "outputs": [],
   "source": [
    "chi2(dfX, dfY)"
   ]
  },
  {
   "cell_type": "code",
   "execution_count": null,
   "id": "910b2603",
   "metadata": {},
   "outputs": [],
   "source": []
  },
  {
   "cell_type": "markdown",
   "id": "5faf74e2",
   "metadata": {},
   "source": [
    "### Exploratory Data Analysis"
   ]
  },
  {
   "cell_type": "code",
   "execution_count": 28,
   "id": "0fcd9467",
   "metadata": {},
   "outputs": [
    {
     "data": {
      "text/html": [
       "<div>\n",
       "<style scoped>\n",
       "    .dataframe tbody tr th:only-of-type {\n",
       "        vertical-align: middle;\n",
       "    }\n",
       "\n",
       "    .dataframe tbody tr th {\n",
       "        vertical-align: top;\n",
       "    }\n",
       "\n",
       "    .dataframe thead th {\n",
       "        text-align: right;\n",
       "    }\n",
       "</style>\n",
       "<table border=\"1\" class=\"dataframe\">\n",
       "  <thead>\n",
       "    <tr style=\"text-align: right;\">\n",
       "      <th></th>\n",
       "      <th>y</th>\n",
       "      <th>ReturnOnAssets</th>\n",
       "      <th>NetIncome_to_Sales</th>\n",
       "      <th>NegativeNetIncomeForLastTwoYears</th>\n",
       "      <th>CurrentAssets_to_CurrentLiabilities</th>\n",
       "      <th>CurrentAssetsTurnonver</th>\n",
       "      <th>QuickRatio</th>\n",
       "      <th>CurrentAssets_to_TotalLiabilities</th>\n",
       "      <th>OperatingCashFlow_to_Assets</th>\n",
       "      <th>FreeCashFlowfromOperations_to_Sales</th>\n",
       "      <th>TotalDebtRatio</th>\n",
       "      <th>LongTermDebt_to_Equity</th>\n",
       "      <th>InterestCoverageRatio</th>\n",
       "      <th>AssetTurnoverRatio</th>\n",
       "      <th>LOG_Sales</th>\n",
       "      <th>Log_Age</th>\n",
       "      <th>RealSize</th>\n",
       "      <th>LagExcessReturn</th>\n",
       "    </tr>\n",
       "  </thead>\n",
       "  <tbody>\n",
       "    <tr>\n",
       "      <th>count</th>\n",
       "      <td>6605</td>\n",
       "      <td>6605.00000</td>\n",
       "      <td>6605.000000</td>\n",
       "      <td>6605</td>\n",
       "      <td>6605.000000</td>\n",
       "      <td>6605.0</td>\n",
       "      <td>6605.00000</td>\n",
       "      <td>6605.000000</td>\n",
       "      <td>6605.000000</td>\n",
       "      <td>6605.000000</td>\n",
       "      <td>6605.0</td>\n",
       "      <td>6605.0</td>\n",
       "      <td>6605.000000</td>\n",
       "      <td>6605.0</td>\n",
       "      <td>6605.000000</td>\n",
       "      <td>6605.000000</td>\n",
       "      <td>6605.0</td>\n",
       "      <td>6605.0</td>\n",
       "    </tr>\n",
       "    <tr>\n",
       "      <th>unique</th>\n",
       "      <td>2</td>\n",
       "      <td>6035.00000</td>\n",
       "      <td>5342.000000</td>\n",
       "      <td>2</td>\n",
       "      <td>5952.000000</td>\n",
       "      <td>5267.0</td>\n",
       "      <td>6007.00000</td>\n",
       "      <td>4531.000000</td>\n",
       "      <td>6034.000000</td>\n",
       "      <td>5347.000000</td>\n",
       "      <td>4289.0</td>\n",
       "      <td>3576.0</td>\n",
       "      <td>4788.000000</td>\n",
       "      <td>5265.0</td>\n",
       "      <td>5037.000000</td>\n",
       "      <td>57.000000</td>\n",
       "      <td>6006.0</td>\n",
       "      <td>6061.0</td>\n",
       "    </tr>\n",
       "    <tr>\n",
       "      <th>top</th>\n",
       "      <td>0</td>\n",
       "      <td>0.04882</td>\n",
       "      <td>-23.330931</td>\n",
       "      <td>0</td>\n",
       "      <td>1.175029</td>\n",
       "      <td>0.0</td>\n",
       "      <td>0.83311</td>\n",
       "      <td>102.352303</td>\n",
       "      <td>0.110703</td>\n",
       "      <td>-12.914063</td>\n",
       "      <td>0.0</td>\n",
       "      <td>0.0</td>\n",
       "      <td>-136.102844</td>\n",
       "      <td>0.0</td>\n",
       "      <td>9.164538</td>\n",
       "      <td>2.302585</td>\n",
       "      <td>0.0</td>\n",
       "      <td>0.0</td>\n",
       "    </tr>\n",
       "    <tr>\n",
       "      <th>freq</th>\n",
       "      <td>6198</td>\n",
       "      <td>102.00000</td>\n",
       "      <td>294.000000</td>\n",
       "      <td>4307</td>\n",
       "      <td>109.000000</td>\n",
       "      <td>821.0</td>\n",
       "      <td>73.00000</td>\n",
       "      <td>227.000000</td>\n",
       "      <td>110.000000</td>\n",
       "      <td>294.000000</td>\n",
       "      <td>1840.0</td>\n",
       "      <td>2626.0</td>\n",
       "      <td>171.000000</td>\n",
       "      <td>821.0</td>\n",
       "      <td>294.000000</td>\n",
       "      <td>695.000000</td>\n",
       "      <td>222.0</td>\n",
       "      <td>245.0</td>\n",
       "    </tr>\n",
       "  </tbody>\n",
       "</table>\n",
       "</div>"
      ],
      "text/plain": [
       "0         y   ReturnOnAssets  NetIncome_to_Sales  \\\n",
       "count   6605      6605.00000         6605.000000   \n",
       "unique     2      6035.00000         5342.000000   \n",
       "top        0         0.04882          -23.330931   \n",
       "freq    6198       102.00000          294.000000   \n",
       "\n",
       "0       NegativeNetIncomeForLastTwoYears  CurrentAssets_to_CurrentLiabilities  \\\n",
       "count                               6605                          6605.000000   \n",
       "unique                                 2                          5952.000000   \n",
       "top                                    0                             1.175029   \n",
       "freq                                4307                           109.000000   \n",
       "\n",
       "0       CurrentAssetsTurnonver  QuickRatio  CurrentAssets_to_TotalLiabilities  \\\n",
       "count                   6605.0  6605.00000                        6605.000000   \n",
       "unique                  5267.0  6007.00000                        4531.000000   \n",
       "top                        0.0     0.83311                         102.352303   \n",
       "freq                     821.0    73.00000                         227.000000   \n",
       "\n",
       "0       OperatingCashFlow_to_Assets  FreeCashFlowfromOperations_to_Sales  \\\n",
       "count                   6605.000000                          6605.000000   \n",
       "unique                  6034.000000                          5347.000000   \n",
       "top                        0.110703                           -12.914063   \n",
       "freq                     110.000000                           294.000000   \n",
       "\n",
       "0       TotalDebtRatio  LongTermDebt_to_Equity  InterestCoverageRatio  \\\n",
       "count           6605.0                  6605.0            6605.000000   \n",
       "unique          4289.0                  3576.0            4788.000000   \n",
       "top                0.0                     0.0            -136.102844   \n",
       "freq            1840.0                  2626.0             171.000000   \n",
       "\n",
       "0       AssetTurnoverRatio    LOG_Sales      Log_Age  RealSize  \\\n",
       "count               6605.0  6605.000000  6605.000000    6605.0   \n",
       "unique              5265.0  5037.000000    57.000000    6006.0   \n",
       "top                    0.0     9.164538     2.302585       0.0   \n",
       "freq                 821.0   294.000000   695.000000     222.0   \n",
       "\n",
       "0       LagExcessReturn  \n",
       "count            6605.0  \n",
       "unique           6061.0  \n",
       "top                 0.0  \n",
       "freq              245.0  "
      ]
     },
     "execution_count": 28,
     "metadata": {},
     "output_type": "execute_result"
    }
   ],
   "source": [
    "# Describe\n",
    "alldf = df[['y ','ReturnOnAssets', 'NetIncome_to_Sales',\n",
    "       'NegativeNetIncomeForLastTwoYears',\n",
    "       'CurrentAssets_to_CurrentLiabilities', 'CurrentAssetsTurnonver',\n",
    "       'QuickRatio', 'CurrentAssets_to_TotalLiabilities',\n",
    "       'OperatingCashFlow_to_Assets',\n",
    "       'FreeCashFlowfromOperations_to_Sales', 'TotalDebtRatio',\n",
    "       'LongTermDebt_to_Equity', 'InterestCoverageRatio',\n",
    "       'AssetTurnoverRatio', 'LOG_Sales', 'Log_Age', 'RealSize',\n",
    "       'LagExcessReturn']]\n",
    "\n",
    "#Describe the characteristics of each variables\n",
    "alldf.describe()"
   ]
  },
  {
   "cell_type": "code",
   "execution_count": 29,
   "id": "35bed7a1",
   "metadata": {},
   "outputs": [],
   "source": [
    "# Display features in Healthy (0) and stressed (0) frames\n",
    "#import seaborn as sns\n",
    "#import matplotlib.pyplot as plt\n",
    "sns.set_theme(style=\"ticks\", color_codes=True)"
   ]
  },
  {
   "cell_type": "code",
   "execution_count": 30,
   "id": "39a27d90",
   "metadata": {},
   "outputs": [
    {
     "data": {
      "image/png": "[encoded data removed]",
      "text/plain": [
       "<Figure size 432x288 with 2 Axes>"
      ]
     },
     "metadata": {},
     "output_type": "display_data"
    }
   ],
   "source": [
    "#Distribution in a facet\n",
    "\n",
    "plt.subplot(1, 2, 1) # row 1, col 2 index 1\n",
    "plt.bar(alldf['y '], alldf['CurrentAssets_to_CurrentLiabilities'])\n",
    "plt.title(\"CurrentAssets_to_CurrentLiabilities!\")\n",
    "plt.xlabel('Company Health o = health, 1 = distress')\n",
    "plt.ylabel('Y-axis ')\n",
    "plt.gca().invert_yaxis()#gives the chart the appropriate orrientation\n",
    "\n",
    "plt.subplot(1, 2, 2) # index 2\n",
    "plt.bar(alldf['y '], alldf['CurrentAssetsTurnonver'])\n",
    "plt.title(\"CurrentAssetsTurnonver\")\n",
    "plt.xlabel('Company Health o = health, 1 = distress')\n",
    "plt.ylabel('Y-axis ')\n",
    "plt.gca().invert_yaxis() #gives the chart the appropriate orrientation"
   ]
  },
  {
   "cell_type": "code",
   "execution_count": 31,
   "id": "7f6b8613",
   "metadata": {},
   "outputs": [
    {
     "data": {
      "image/png": "[encoded data removed]",
      "text/plain": [
       "<Figure size 360x360 with 1 Axes>"
      ]
     },
     "metadata": {},
     "output_type": "display_data"
    }
   ],
   "source": [
    "sns.catplot(x=\"y \", y=\"NetIncome_to_Sales\", kind=\"bar\", data=alldf)\n",
    "plt.gca().invert_yaxis()"
   ]
  },
  {
   "cell_type": "code",
   "execution_count": 33,
   "id": "6bb1fef4",
   "metadata": {},
   "outputs": [
    {
     "data": {
      "text/plain": [
       "<seaborn.axisgrid.FacetGrid at 0x2875ac1a070>"
      ]
     },
     "execution_count": 33,
     "metadata": {},
     "output_type": "execute_result"
    },
    {
     "data": {
      "image/png": "[encoded data removed]",
      "text/plain": [
       "<Figure size 360x360 with 1 Axes>"
      ]
     },
     "metadata": {},
     "output_type": "display_data"
    }
   ],
   "source": [
    "sns.catplot(x='y ', y=\"AssetTurnoverRatio\", kind = \"bar\",\n",
    "            data=alldf, color=\"c\")"
   ]
  },
  {
   "cell_type": "code",
   "execution_count": 34,
   "id": "a00e9431",
   "metadata": {},
   "outputs": [
    {
     "data": {
      "text/plain": [
       "<seaborn.axisgrid.FacetGrid at 0x2875a586790>"
      ]
     },
     "execution_count": 34,
     "metadata": {},
     "output_type": "execute_result"
    },
    {
     "data": {
      "image/png": "[encoded data removed]",
      "text/plain": [
       "<Figure size 360x360 with 1 Axes>"
      ]
     },
     "metadata": {},
     "output_type": "display_data"
    }
   ],
   "source": [
    "sns.catplot(x=\"y \", y=\"LOG_Sales\", kind=\"bar\",\n",
    "            edgecolor=\".6\",\n",
    "            data=alldf)"
   ]
  },
  {
   "cell_type": "code",
   "execution_count": 35,
   "id": "416816b2",
   "metadata": {},
   "outputs": [
    {
     "data": {
      "text/plain": [
       "<seaborn.axisgrid.FacetGrid at 0x2874aefbbe0>"
      ]
     },
     "execution_count": 35,
     "metadata": {},
     "output_type": "execute_result"
    },
    {
     "data": {
      "image/png": "[encoded data removed]",
      "text/plain": [
       "<Figure size 360x360 with 1 Axes>"
      ]
     },
     "metadata": {},
     "output_type": "display_data"
    }
   ],
   "source": [
    "sns.catplot(x=\"y \", y=\"RealSize\", data=alldf)"
   ]
  },
  {
   "cell_type": "code",
   "execution_count": 36,
   "id": "6770318b",
   "metadata": {},
   "outputs": [
    {
     "data": {
      "text/plain": [
       "<seaborn.axisgrid.FacetGrid at 0x2874af15bb0>"
      ]
     },
     "execution_count": 36,
     "metadata": {},
     "output_type": "execute_result"
    },
    {
     "data": {
      "image/png": "[encoded data removed]",
      "text/plain": [
       "<Figure size 360x360 with 1 Axes>"
      ]
     },
     "metadata": {},
     "output_type": "display_data"
    }
   ],
   "source": [
    "sns.catplot(x=\"y \", y=\"QuickRatio\", data=alldf)"
   ]
  },
  {
   "cell_type": "markdown",
   "id": "d110ac9c",
   "metadata": {},
   "source": [
    "### Train set and Test set"
   ]
  },
  {
   "cell_type": "code",
   "execution_count": 28,
   "id": "3931839b",
   "metadata": {},
   "outputs": [],
   "source": [
    "# to know which index the 2013 starts from\n",
    "#print(ade.loc[ade['year'] == 2013])\n",
    "\n",
    "#hence, 2013 is from row index 623 to end (6605)"
   ]
  },
  {
   "cell_type": "code",
   "execution_count": 29,
   "id": "25f12ab9",
   "metadata": {},
   "outputs": [
    {
     "name": "stdout",
     "output_type": "stream",
     "text": [
      "(472, 17) (472,) (6133, 17) (6133,)\n"
     ]
    }
   ],
   "source": [
    "# Divide sample into two sub-samples: Training sample (2010 – 2012, index 0 to 472) and Test sample (2013-2014, index 472 to end)\n",
    "\n",
    "trainX = adeXft[:472]\n",
    "testX = adeXft[472:]\n",
    "\n",
    "trainY = adeY[:472]\n",
    "testY = adeY[472:]\n",
    "\n",
    "#check the dimentions to ensure they correspond\n",
    "print(trainX.shape, trainY.shape , testX.shape, testY.shape)\n",
    "\n",
    "#the train data both has 472 rows while the test data both has 6133 rows\n"
   ]
  },
  {
   "cell_type": "code",
   "execution_count": null,
   "id": "aeb799cb",
   "metadata": {},
   "outputs": [],
   "source": []
  },
  {
   "cell_type": "markdown",
   "id": "bc9fcc24",
   "metadata": {},
   "source": [
    "### Decision Tree"
   ]
  },
  {
   "cell_type": "code",
   "execution_count": 30,
   "id": "42f6325f",
   "metadata": {},
   "outputs": [],
   "source": [
    "# Load libraries\n",
    "from sklearn.tree import DecisionTreeClassifier # Import Decision Tree Classifier\n",
    "from sklearn import metrics #Import scikit-learn metrics module for accuracy calculation"
   ]
  },
  {
   "cell_type": "code",
   "execution_count": 31,
   "id": "506e0650",
   "metadata": {},
   "outputs": [],
   "source": [
    "# Create Decision Tree classifer object\n",
    "clfdt = DecisionTreeClassifier()"
   ]
  },
  {
   "cell_type": "code",
   "execution_count": 32,
   "id": "59acbda0",
   "metadata": {},
   "outputs": [
    {
     "data": {
      "text/plain": [
       "DecisionTreeClassifier()"
      ]
     },
     "execution_count": 32,
     "metadata": {},
     "output_type": "execute_result"
    }
   ],
   "source": [
    "# Train Decision Tree Classifer\n",
    "clfdt.fit(trainX, trainY)"
   ]
  },
  {
   "cell_type": "code",
   "execution_count": 33,
   "id": "178f0ba5",
   "metadata": {},
   "outputs": [],
   "source": [
    "#Predict the response for test dataset\n",
    "y_pred = clfdt.predict(testX)"
   ]
  },
  {
   "cell_type": "code",
   "execution_count": 34,
   "id": "093c6db8",
   "metadata": {},
   "outputs": [
    {
     "name": "stdout",
     "output_type": "stream",
     "text": [
      "Accuracy of Test Set: 0.8682537094407304\n"
     ]
    }
   ],
   "source": [
    "# Model Accuracy, how often is the classifier correct?\n",
    "print(\"Accuracy of Test Set:\",metrics.accuracy_score(testY, y_pred))"
   ]
  },
  {
   "cell_type": "markdown",
   "id": "3f4d4a53",
   "metadata": {},
   "source": [
    "##### Testing for Overfitting and Underfitting\n",
    "When the performance of a model on the training dataset is significantly better than the performance on the test dataset, then the model is can be said to have overfit the training dataset.\n",
    "\n",
    "Also, when the performance of the model in the test dataset is significantly higher than that of the training dataset, then, underfitting error has occured.\n",
    "\n",
    "Overfitting and Underfitting are serious issues because it is a common cause for “poor generalization” of the model as measured by high “generalization error.” That is error made by the model when making predictions on new data.\n",
    "\n",
    "When the accuracy of the test data is not far from the train data, we can coclude that the model is not overfiting nor underfiting."
   ]
  },
  {
   "cell_type": "code",
   "execution_count": 40,
   "id": "32017148",
   "metadata": {},
   "outputs": [
    {
     "name": "stdout",
     "output_type": "stream",
     "text": [
      "Accuracy of Train Set: 1.0\n"
     ]
    }
   ],
   "source": [
    "#Predict the response for train dataset\n",
    "x_pred = clfdt.predict(trainX)\n",
    "\n",
    "# print accuracy for the train dataset\n",
    "\n",
    "print(\"Accuracy of Train Set:\",metrics.accuracy_score(trainY, x_pred))"
   ]
  },
  {
   "cell_type": "markdown",
   "id": "69233286",
   "metadata": {},
   "source": [
    "The accuracy of the train set is approximately 0.94 while accuracy for test set is 0.88.\n",
    "Although these accuracies are all high, both are significantly far apart. The accuracy score for the test set is higher than the accuracy score for the train set.\n",
    "Therefore, we can conclude that there is an underfitting problem in the model. This may be due to the trainset having more sample size than the test set."
   ]
  },
  {
   "cell_type": "markdown",
   "id": "55f2a5c0",
   "metadata": {},
   "source": [
    "# Logistic Regression"
   ]
  },
  {
   "cell_type": "code",
   "execution_count": 41,
   "id": "32800260",
   "metadata": {},
   "outputs": [],
   "source": [
    "#Logistics_1 = glm.LogisticRegression(n_jobs=-1,max_iter=600)\n",
    "\n",
    "clflgr = LogisticRegression(n_jobs=-1,max_iter=900)\n",
    "clflgr.fit(trainX, trainY) #train the logistic regression model\n",
    "\n",
    "ypredlgr = clflgr.decision_function(testX)"
   ]
  },
  {
   "cell_type": "code",
   "execution_count": 42,
   "id": "50a94749",
   "metadata": {},
   "outputs": [
    {
     "data": {
      "text/plain": [
       "0.9427966101694916"
      ]
     },
     "execution_count": 42,
     "metadata": {},
     "output_type": "execute_result"
    }
   ],
   "source": [
    "# model performance - accuracy score\n",
    "#Checking the accuracy score for the train sets (0.94)\n",
    "\n",
    "clflgr.score(trainX, trainY)"
   ]
  },
  {
   "cell_type": "code",
   "execution_count": 43,
   "id": "3a85e884",
   "metadata": {},
   "outputs": [
    {
     "data": {
      "text/plain": [
       "0.9331485406815588"
      ]
     },
     "execution_count": 43,
     "metadata": {},
     "output_type": "execute_result"
    }
   ],
   "source": [
    "#Checking the accuracy score for the test sets (0.93)\n",
    "clflgr.score(testX, testY)"
   ]
  },
  {
   "cell_type": "markdown",
   "id": "97d73faf",
   "metadata": {},
   "source": [
    "#### Overfitting and Underfitting\n",
    "The accuracy scores for the trainset (0.94) and test set (0.93) is almost same, therefore no observed issue of underfitting nor overfitting"
   ]
  },
  {
   "cell_type": "code",
   "execution_count": null,
   "id": "1cadf94a",
   "metadata": {},
   "outputs": [],
   "source": []
  },
  {
   "cell_type": "markdown",
   "id": "18c55ec9",
   "metadata": {},
   "source": [
    "# Random Forest Classifier"
   ]
  },
  {
   "cell_type": "code",
   "execution_count": 44,
   "id": "939d5678",
   "metadata": {},
   "outputs": [],
   "source": [
    "# Feature Scaling\n",
    "from sklearn.preprocessing import StandardScaler"
   ]
  },
  {
   "cell_type": "code",
   "execution_count": 45,
   "id": "38317a45",
   "metadata": {},
   "outputs": [],
   "source": [
    "# Feature Scaling\n",
    "sc = StandardScaler()\n",
    "X_train = sc.fit_transform(trainX)\n",
    "X_test = sc.transform(testX)\n",
    "\n",
    "#Y_train = sc.fit_transform(trainY)\n",
    "#Y_test = sc.transform(testY)"
   ]
  },
  {
   "cell_type": "code",
   "execution_count": 46,
   "id": "6164507f",
   "metadata": {},
   "outputs": [],
   "source": [
    "# train the algorithm\n",
    "\n",
    "from sklearn.ensemble import RandomForestRegressor"
   ]
  },
  {
   "cell_type": "code",
   "execution_count": 47,
   "id": "ba2b4dd6",
   "metadata": {},
   "outputs": [],
   "source": [
    "regressor = RandomForestRegressor(n_estimators=20, random_state=0)\n",
    "regressor.fit(X_train, trainY)\n",
    "y_pred = regressor.predict(X_test)"
   ]
  },
  {
   "cell_type": "code",
   "execution_count": 48,
   "id": "9ae2cbb0",
   "metadata": {},
   "outputs": [],
   "source": [
    "#Evaluating Algorithm\n",
    "from sklearn.metrics import classification_report, confusion_matrix, accuracy_score"
   ]
  },
  {
   "cell_type": "code",
   "execution_count": 49,
   "id": "5d41bb82",
   "metadata": {},
   "outputs": [],
   "source": [
    "# import Random Forest classifier\n",
    "\n",
    "from sklearn.ensemble import RandomForestClassifier"
   ]
  },
  {
   "cell_type": "code",
   "execution_count": 50,
   "id": "e503b05f",
   "metadata": {},
   "outputs": [
    {
     "data": {
      "text/plain": [
       "RandomForestClassifier(random_state=0)"
      ]
     },
     "execution_count": 50,
     "metadata": {},
     "output_type": "execute_result"
    }
   ],
   "source": [
    "# instantiate the classifier \n",
    "\n",
    "rfc = RandomForestClassifier(random_state=0)\n",
    "\n",
    "# fit the model\n",
    "\n",
    "rfc.fit(trainX, trainY)"
   ]
  },
  {
   "cell_type": "code",
   "execution_count": 51,
   "id": "3e143e8e",
   "metadata": {},
   "outputs": [],
   "source": [
    "# Predict the Test set results\n",
    "\n",
    "y_pred = rfc.predict(testX)"
   ]
  },
  {
   "cell_type": "code",
   "execution_count": 52,
   "id": "749f0af6",
   "metadata": {},
   "outputs": [
    {
     "name": "stdout",
     "output_type": "stream",
     "text": [
      "Model accuracy score with 10 decision-trees : 0.9364\n"
     ]
    }
   ],
   "source": [
    "# Check accuracy score for test sets\n",
    "\n",
    "from sklearn.metrics import accuracy_score\n",
    "\n",
    "print('Model accuracy score with 10 decision-trees : {0:0.4f}'. format(accuracy_score(testY, y_pred)))\n"
   ]
  },
  {
   "cell_type": "code",
   "execution_count": 53,
   "id": "42d50afc",
   "metadata": {},
   "outputs": [
    {
     "name": "stdout",
     "output_type": "stream",
     "text": [
      "Model accuracy score with 10 decision-trees : 1.0000\n"
     ]
    }
   ],
   "source": [
    "# Check accuracy score for train sets\n",
    "\n",
    "# Predict the Test set results\n",
    "\n",
    "trainy_pred = rfc.predict(trainX)\n",
    "\n",
    "print('Model accuracy score with 10 decision-trees : {0:0.4f}'. format(accuracy_score(trainY, trainy_pred)))\n"
   ]
  },
  {
   "cell_type": "code",
   "execution_count": null,
   "id": "a90e21ba",
   "metadata": {},
   "outputs": [],
   "source": []
  },
  {
   "cell_type": "markdown",
   "id": "9c88db92",
   "metadata": {},
   "source": [
    "#### Checking for the ROC/AUC curve\n",
    "\n",
    "Creating False and True Positive Rates and printing Scores"
   ]
  },
  {
   "cell_type": "code",
   "execution_count": 54,
   "id": "bfb16e61",
   "metadata": {},
   "outputs": [
    {
     "data": {
      "text/plain": [
       "<matplotlib.legend.Legend at 0x291a3876100>"
      ]
     },
     "execution_count": 54,
     "metadata": {},
     "output_type": "execute_result"
    },
    {
     "data": {
      "image/png": "[encoded data removed]",
      "text/plain": [
       "<Figure size 500x500 with 1 Axes>"
      ]
     },
     "metadata": {},
     "output_type": "display_data"
    }
   ],
   "source": [
    "from sklearn.metrics import roc_curve, roc_auc_score, auc\n",
    "\n",
    "y_scoredt = clfdt.predict_proba(testX)[:,1]\n",
    "y_scorelgr = clflgr.predict_proba(testX)[:,1]\n",
    "y_scorerfc = rfc.predict_proba(testX)[:,1]\n",
    "\n",
    "fprdt, tprdt, thresholddt = roc_curve(testY, y_scoredt)\n",
    "auc_dt = auc(fprdt, tprdt)\n",
    "fprlgr, tprlgr, thresholdlgr = roc_curve(testY, y_scorelgr)\n",
    "auc_lgr = auc(fprlgr, tprlgr)\n",
    "fprrfc, tprrfc, thresholdrfc = roc_curve(testY, y_scorerfc)\n",
    "auc_rfc = auc(fprrfc, tprrfc)\n",
    "\n",
    "plt.figure(figsize=(5,5), dpi=100)\n",
    "plt.plot(fprdt, tprdt, linestyle= '--', label= 'dt(auc = %0.3f)' %auc_dt)\n",
    "plt.plot(fprlgr, tprlgr, linestyle= '-.', label= 'lgr(auc = %0.3f)' %auc_lgr)\n",
    "plt.plot(fprrfc, tprrfc, linestyle= ':', label= 'rfc(auc = %0.3f)' %auc_rfc)\n",
    "\n",
    "plt.title('Receiver Operating Characteristic - DecisionTree | Logistic Regression | Random Forest')\n",
    "plt.xlabel('False Positive Rate')\n",
    "plt.ylabel('True Positive Rate')\n",
    "\n",
    "plt.legend()\n",
    "\n"
   ]
  },
  {
   "cell_type": "code",
   "execution_count": null,
   "id": "88736a75",
   "metadata": {},
   "outputs": [],
   "source": []
  },
  {
   "cell_type": "code",
   "execution_count": 57,
   "id": "b6176fe8",
   "metadata": {},
   "outputs": [
    {
     "name": "stdout",
     "output_type": "stream",
     "text": [
      "Best Threshold=0.080000, G-Mean=0.717\n"
     ]
    },
    {
     "data": {
      "image/png": "[encoded data removed]",
      "text/plain": [
       "<Figure size 432x288 with 1 Axes>"
      ]
     },
     "metadata": {},
     "output_type": "display_data"
    }
   ],
   "source": [
    "# plotting the RoC Curve for random forest, the best model with the highest AUC\n",
    "from numpy import sqrt\n",
    "from numpy import argmax\n",
    "from matplotlib import pyplot\n",
    "\n",
    "fprrfc, tprrfc, thresholdrfc = roc_curve(testY, y_scorerfc)\n",
    "auc_rfc = auc(fprrfc, tprrfc)\n",
    "# calculate the g-mean for each threshold\n",
    "gmeans = sqrt(tprrfc * (1-fprrfc))\n",
    "# locate the index of the largest g-mean\n",
    "ix = argmax(gmeans)\n",
    "print('Best Threshold=%f, G-Mean=%.3f' % (thresholdrfc[ix], gmeans[ix]))\n",
    "# plot the roc curve for the model\n",
    "pyplot.plot([0,1], [0,1], linestyle='--', label='Distress')\n",
    "pyplot.plot(fprrfc, tprrfc, marker='.', label='Random Forest')\n",
    "pyplot.scatter(fprrfc[ix], tprrfc[ix], marker='o', color='black', label='Best')\n",
    "# axis labels\n",
    "pyplot.xlabel('False Positive Rate')\n",
    "pyplot.ylabel('True Positive Rate')\n",
    "plt.plot(fprrfc, tprrfc, linestyle= ':', label= 'rfc(auc = %0.3f)' %auc_rfc)\n",
    "plt.title('Receiver Operating Characteristic - Random Forest')\n",
    "pyplot.legend()\n",
    "# show the plot\n",
    "pyplot.show()\n",
    "\n",
    "#plt.figure(figsize=(5,5), dpi=100)\n",
    "#plt.plot(fprrfc, tprrfc, linestyle= ':', label= 'rfc(auc = %0.3f)' %auc_rfc)\n",
    "\n",
    "#plt.title('Receiver Operating Characteristic - Random Forest')\n",
    "#plt.xlabel('False Positive Rate')\n",
    "#plt.ylabel('True Positive Rate')\n",
    "\n",
    "#plt.legend()\n",
    "\n"
   ]
  },
  {
   "cell_type": "code",
   "execution_count": 56,
   "id": "5add0f30",
   "metadata": {},
   "outputs": [
    {
     "name": "stderr",
     "output_type": "stream",
     "text": [
      "C:\\Users\\USER\\anaconda3\\lib\\site-packages\\sklearn\\linear_model\\_logistic.py:763: ConvergenceWarning: lbfgs failed to converge (status=1):\n",
      "STOP: TOTAL NO. of ITERATIONS REACHED LIMIT.\n",
      "\n",
      "Increase the number of iterations (max_iter) or scale the data as shown in:\n",
      "    https://scikit-learn.org/stable/modules/preprocessing.html\n",
      "Please also refer to the documentation for alternative solver options:\n",
      "    https://scikit-learn.org/stable/modules/linear_model.html#logistic-regression\n",
      "  n_iter_i = _check_optimize_result(\n"
     ]
    },
    {
     "name": "stdout",
     "output_type": "stream",
     "text": [
      "Best Threshold=0.046907, G-Mean=0.700\n"
     ]
    },
    {
     "data": {
      "image/png": "[encoded data removed]",
      "text/plain": [
       "<Figure size 432x288 with 1 Axes>"
      ]
     },
     "metadata": {},
     "output_type": "display_data"
    }
   ],
   "source": [
    "# roc curve for logistic regression model with optimal threshold\n",
    "from numpy import sqrt\n",
    "from numpy import argmax\n",
    "from matplotlib import pyplot\n",
    "\n",
    "model = LogisticRegression(solver='lbfgs')\n",
    "model.fit(trainX, trainY)\n",
    "# predict probabilities\n",
    "yhat = model.predict_proba(testX)\n",
    "# keep probabilities for the positive outcome only\n",
    "yhat = yhat[:, 1]\n",
    "# calculate roc curves\n",
    "fpr, tpr, thresholds = roc_curve(testY, yhat)\n",
    "# calculate the g-mean for each threshold\n",
    "gmeans = sqrt(tpr * (1-fpr))\n",
    "# locate the index of the largest g-mean\n",
    "ix = argmax(gmeans)\n",
    "print('Best Threshold=%f, G-Mean=%.3f' % (thresholds[ix], gmeans[ix]))\n",
    "# plot the roc curve for the model\n",
    "pyplot.plot([0,1], [0,1], linestyle='--', label='Distress')\n",
    "pyplot.plot(fpr, tpr, marker='.', label='Logistic')\n",
    "pyplot.scatter(fpr[ix], tpr[ix], marker='o', color='black', label='Best')\n",
    "# axis labels\n",
    "pyplot.xlabel('False Positive Rate')\n",
    "pyplot.ylabel('True Positive Rate')\n",
    "pyplot.legend()\n",
    "# show the plot\n",
    "pyplot.show()"
   ]
  },
  {
   "cell_type": "markdown",
   "id": "8be6e76d",
   "metadata": {},
   "source": [
    "### Conclusion\n",
    "\n",
    "The random forest model among the three models showed the highest accuracy and prediction power using the sensitivity and specitifity rates."
   ]
  },
  {
   "cell_type": "code",
   "execution_count": null,
   "id": "264c1607",
   "metadata": {},
   "outputs": [],
   "source": []
  },
  {
   "cell_type": "code",
   "execution_count": null,
   "id": "6282525a",
   "metadata": {},
   "outputs": [],
   "source": []
  }
 ],
 "metadata": {
  "kernelspec": {
   "display_name": "Python 3 (ipykernel)",
   "language": "python",
   "name": "python3"
  },
  "language_info": {
   "codemirror_mode": {
    "name": "ipython",
    "version": 3
   },
   "file_extension": ".py",
   "mimetype": "text/x-python",
   "name": "python",
   "nbconvert_exporter": "python",
   "pygments_lexer": "ipython3",
   "version": "3.9.7"
  }
 },
 "nbformat": 4,
 "nbformat_minor": 5
}
